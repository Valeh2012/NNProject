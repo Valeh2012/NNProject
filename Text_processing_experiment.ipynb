{
 "cells": [
  {
   "cell_type": "markdown",
   "metadata": {},
   "source": [
    "# Hypertuning and Regularization for our simple base model"
   ]
  },
  {
   "cell_type": "code",
   "execution_count": 2,
   "metadata": {},
   "outputs": [
    {
     "data": {
      "text/plain": [
       "{'BLACK VOICES', 'COMEDY', 'HEALTHY LIVING', 'SPORTS', 'WORLD NEWS'}"
      ]
     },
     "execution_count": 2,
     "metadata": {},
     "output_type": "execute_result"
    }
   ],
   "source": [
    "import json\n",
    "\n",
    "with open('train_.txt') as json_file:  \n",
    "    train_data = json.load(json_file)\n",
    "\n",
    "from random import shuffle\n",
    "shuffle(train_data)\n",
    "\n",
    "\n",
    "\n",
    "a=[]\n",
    "for i in train_data:\n",
    "    a.append(i['category'])\n",
    "classes=set(a)\n",
    "\n",
    "classes"
   ]
  },
  {
   "cell_type": "code",
   "execution_count": 5,
   "metadata": {},
   "outputs": [
    {
     "data": {
      "text/plain": [
       "1000"
      ]
     },
     "execution_count": 5,
     "metadata": {},
     "output_type": "execute_result"
    }
   ],
   "source": [
    "train_data=train_data[0:1000]\n",
    "len(train_data)"
   ]
  },
  {
   "cell_type": "code",
   "execution_count": 7,
   "metadata": {},
   "outputs": [],
   "source": [
    "import pandas as pd\n",
    "\n",
    "d = {}\n",
    "for k,v in enumerate(classes):\n",
    "    d[v] = k\n",
    "    \n",
    "k=[]\n",
    "C=[]\n",
    "for item in train_data:\n",
    "    c=d[item['category']]\n",
    "    C.append(c)\n",
    "    EXP=item['headline']+item['short_description']\n",
    "    k.append(EXP)\n",
    "\n",
    "train_df = pd.DataFrame(k)\n",
    "train_df['category']=C\n",
    "train_df.columns=[\"sentence\",\"category\"]"
   ]
  },
  {
   "cell_type": "code",
   "execution_count": 8,
   "metadata": {},
   "outputs": [
    {
     "data": {
      "text/html": [
       "<div>\n",
       "<style scoped>\n",
       "    .dataframe tbody tr th:only-of-type {\n",
       "        vertical-align: middle;\n",
       "    }\n",
       "\n",
       "    .dataframe tbody tr th {\n",
       "        vertical-align: top;\n",
       "    }\n",
       "\n",
       "    .dataframe thead th {\n",
       "        text-align: right;\n",
       "    }\n",
       "</style>\n",
       "<table border=\"1\" class=\"dataframe\">\n",
       "  <thead>\n",
       "    <tr style=\"text-align: right;\">\n",
       "      <th></th>\n",
       "      <th>sentence</th>\n",
       "      <th>category</th>\n",
       "    </tr>\n",
       "  </thead>\n",
       "  <tbody>\n",
       "    <tr>\n",
       "      <th>0</th>\n",
       "      <td>It's Totally Normal That Your Sex Life Is Noth...</td>\n",
       "      <td>1</td>\n",
       "    </tr>\n",
       "    <tr>\n",
       "      <th>1</th>\n",
       "      <td>Lamar Odom's Speech Is Improving During Therap...</td>\n",
       "      <td>4</td>\n",
       "    </tr>\n",
       "    <tr>\n",
       "      <th>2</th>\n",
       "      <td>After The Floods, Zimbabwean Women Are Impatie...</td>\n",
       "      <td>3</td>\n",
       "    </tr>\n",
       "    <tr>\n",
       "      <th>3</th>\n",
       "      <td>Opioid Prescriptions Are Declining -- But Not ...</td>\n",
       "      <td>1</td>\n",
       "    </tr>\n",
       "    <tr>\n",
       "      <th>4</th>\n",
       "      <td>The Source Of Donald Trump's Military Expertis...</td>\n",
       "      <td>2</td>\n",
       "    </tr>\n",
       "  </tbody>\n",
       "</table>\n",
       "</div>"
      ],
      "text/plain": [
       "                                            sentence  category\n",
       "0  It's Totally Normal That Your Sex Life Is Noth...         1\n",
       "1  Lamar Odom's Speech Is Improving During Therap...         4\n",
       "2  After The Floods, Zimbabwean Women Are Impatie...         3\n",
       "3  Opioid Prescriptions Are Declining -- But Not ...         1\n",
       "4  The Source Of Donald Trump's Military Expertis...         2"
      ]
     },
     "execution_count": 8,
     "metadata": {},
     "output_type": "execute_result"
    }
   ],
   "source": [
    "train_df.head()"
   ]
  },
  {
   "cell_type": "code",
   "execution_count": 19,
   "metadata": {},
   "outputs": [],
   "source": [
    "import tensorflow as tf\n",
    "import tensorflow_hub as hub\n",
    "import numpy as np\n",
    "import os\n",
    "import pandas as pd\n",
    "import re\n",
    "import keras.layers as layers\n",
    "\n",
    "from collections import Counter\n",
    "from keras import backend as K\n",
    "from keras.callbacks import TensorBoard\n",
    "from keras.layers import Input, Embedding, BatchNormalization, LSTM, Dense, Concatenate , Dropout\n",
    "from keras.models import Model\n",
    "\n",
    "from keras.utils import plot_model"
   ]
  },
  {
   "cell_type": "code",
   "execution_count": 10,
   "metadata": {},
   "outputs": [],
   "source": [
    "time_steps = 100\n",
    "\n",
    "# building vocabulary from dataset\n",
    "def build_vocabulary(sentence_list):\n",
    "    unique_words = \" \".join(sentence_list).strip().split()\n",
    "    word_count = Counter(unique_words).most_common()\n",
    "    vocabulary = {}\n",
    "    for word, _ in word_count:\n",
    "        vocabulary[word] = len(vocabulary)        \n",
    "\n",
    "    return vocabulary\n",
    "\n",
    "vocabulary = build_vocabulary(train_df[\"sentence\"])"
   ]
  },
  {
   "cell_type": "code",
   "execution_count": 12,
   "metadata": {},
   "outputs": [
    {
     "name": "stdout",
     "output_type": "stream",
     "text": [
      "_________________________________________________________________\n",
      "Layer (type)                 Output Shape              Param #   \n",
      "=================================================================\n",
      "input_2 (InputLayer)         (None, 500)               0         \n",
      "_________________________________________________________________\n",
      "embedding_2 (Embedding)      (None, 500, 16)           156288    \n",
      "_________________________________________________________________\n",
      "batch_normalization_2 (Batch (None, 500, 16)           64        \n",
      "_________________________________________________________________\n",
      "lstm_2 (LSTM)                (None, 128)               74240     \n",
      "_________________________________________________________________\n",
      "dense_4 (Dense)              (None, 64)                8256      \n",
      "_________________________________________________________________\n",
      "dense_5 (Dense)              (None, 32)                2080      \n",
      "_________________________________________________________________\n",
      "dense_6 (Dense)              (None, 5)                 165       \n",
      "=================================================================\n",
      "Total params: 241,093\n",
      "Trainable params: 241,061\n",
      "Non-trainable params: 32\n",
      "_________________________________________________________________\n"
     ]
    }
   ],
   "source": [
    "inputs = Input(shape=(500, ))\n",
    "embedding_layer = Embedding(len(vocabulary),\n",
    "                            16,input_length=500)(inputs)\n",
    "word_embedding= BatchNormalization()(embedding_layer)\n",
    "\n",
    "x = LSTM(128)(word_embedding)\n",
    "x = Dense(64, activation='relu')(x)\n",
    "x = Dense(32, activation='relu')(x)\n",
    "predictions = Dense(5, activation='softmax')(x)\n",
    "model = Model(inputs=[inputs], outputs=predictions)\n",
    "model.compile(optimizer='adam',\n",
    "              loss='categorical_crossentropy',\n",
    "              metrics=['acc'])\n",
    "\n",
    "model.summary()\n"
   ]
  },
  {
   "cell_type": "code",
   "execution_count": 13,
   "metadata": {},
   "outputs": [],
   "source": [
    "# Create datasets (Only take up to time_steps words for memory)\n",
    "train_text = train_df['sentence'].tolist()\n",
    "train_text = [' '.join(t.split()[0:time_steps]) for t in train_text]\n",
    "train_text = np.array(train_text)\n",
    "train_label = np.array(train_df['category'].tolist())"
   ]
  },
  {
   "cell_type": "code",
   "execution_count": 14,
   "metadata": {},
   "outputs": [],
   "source": [
    "from keras.preprocessing.text import Tokenizer\n",
    "from keras.preprocessing.sequence import pad_sequences\n",
    "MAX_LENGTH = 500\n",
    "tokenizer = Tokenizer()\n",
    "tokenizer.fit_on_texts(train_text)\n",
    "post_seq = tokenizer.texts_to_sequences(train_text)\n",
    "post_seq_padded = pad_sequences(post_seq, maxlen=MAX_LENGTH)"
   ]
  },
  {
   "cell_type": "code",
   "execution_count": 15,
   "metadata": {},
   "outputs": [],
   "source": [
    "from sklearn.model_selection import train_test_split\n",
    "X_train, X_test, y_train, y_test = train_test_split(post_seq_padded, train_label, test_size=0.05)"
   ]
  },
  {
   "cell_type": "code",
   "execution_count": 24,
   "metadata": {},
   "outputs": [
    {
     "name": "stdout",
     "output_type": "stream",
     "text": [
      "Train on 712 samples, validate on 238 samples\n",
      "Epoch 1/5\n",
      "712/712 [==============================] - 39s 55ms/step - loss: 0.3271 - acc: 0.9185 - val_loss: 1.7837 - val_acc: 0.4958\n",
      "Epoch 2/5\n",
      "712/712 [==============================] - 40s 56ms/step - loss: 0.1966 - acc: 0.9551 - val_loss: 1.8521 - val_acc: 0.5420\n",
      "Epoch 3/5\n",
      "712/712 [==============================] - 41s 57ms/step - loss: 0.0969 - acc: 0.9761 - val_loss: 2.1993 - val_acc: 0.4790\n",
      "Epoch 4/5\n",
      "712/712 [==============================] - 39s 55ms/step - loss: 0.0558 - acc: 0.9916 - val_loss: 2.2396 - val_acc: 0.5084\n",
      "Epoch 5/5\n",
      "712/712 [==============================] - 28s 39ms/step - loss: 0.0437 - acc: 0.9874 - val_loss: 2.0404 - val_acc: 0.4958\n"
     ]
    }
   ],
   "source": [
    "from keras.utils import to_categorical\n",
    "\n",
    "history = model.fit([X_train], batch_size=64, y=to_categorical(y_train), verbose=1, validation_split=0.25, \n",
    "          shuffle=False, epochs=5)"
   ]
  },
  {
   "cell_type": "code",
   "execution_count": 25,
   "metadata": {},
   "outputs": [
    {
     "name": "stdout",
     "output_type": "stream",
     "text": [
      "50/50 [==============================] - 0s 3ms/step\n"
     ]
    },
    {
     "data": {
      "text/plain": [
       "[1.8034790754318237, 0.5200000095367432]"
      ]
     },
     "execution_count": 25,
     "metadata": {},
     "output_type": "execute_result"
    }
   ],
   "source": [
    "model.evaluate(X_test,to_categorical(y_test))"
   ]
  },
  {
   "cell_type": "markdown",
   "metadata": {},
   "source": [
    "### - In this notebook I am just trying to decrease overfitting in my simple model and for that aim I made several experiments and I decreased my sample to 1000.\n",
    "### - At the above we can see my base model there is huge overfitting like almost %50 "
   ]
  },
  {
   "cell_type": "markdown",
   "metadata": {},
   "source": [
    "## Adding Dropout Layer"
   ]
  },
  {
   "cell_type": "code",
   "execution_count": 30,
   "metadata": {},
   "outputs": [
    {
     "name": "stdout",
     "output_type": "stream",
     "text": [
      "Dropout:  0.0\n",
      "Train on 712 samples, validate on 238 samples\n",
      "Epoch 1/5\n",
      "712/712 [==============================] - 26s 36ms/step - loss: 1.5696 - acc: 0.2584 - val_loss: 1.5580 - val_acc: 0.2689\n",
      "Epoch 2/5\n",
      "712/712 [==============================] - 24s 33ms/step - loss: 1.5300 - acc: 0.2935 - val_loss: 1.5498 - val_acc: 0.2647\n",
      "Epoch 3/5\n",
      "712/712 [==============================] - 24s 33ms/step - loss: 1.4263 - acc: 0.3525 - val_loss: 1.5387 - val_acc: 0.3151\n",
      "Epoch 4/5\n",
      "712/712 [==============================] - 24s 34ms/step - loss: 1.0389 - acc: 0.6180 - val_loss: 1.5756 - val_acc: 0.4286\n",
      "Epoch 5/5\n",
      "712/712 [==============================] - 25s 35ms/step - loss: 0.6568 - acc: 0.7893 - val_loss: 1.5183 - val_acc: 0.4286\n",
      "Test score: 1.7466796016693116\n",
      "Test accuracy: 0.28000000476837156\n",
      "Dropout:  0.1\n",
      "Train on 712 samples, validate on 238 samples\n",
      "Epoch 1/5\n",
      "712/712 [==============================] - 31s 43ms/step - loss: 1.6114 - acc: 0.1854 - val_loss: 1.5816 - val_acc: 0.2689\n",
      "Epoch 2/5\n",
      "712/712 [==============================] - 27s 38ms/step - loss: 1.5601 - acc: 0.2837 - val_loss: 1.5551 - val_acc: 0.2647\n",
      "Epoch 3/5\n",
      "712/712 [==============================] - 27s 39ms/step - loss: 1.4912 - acc: 0.3764 - val_loss: 1.5342 - val_acc: 0.2983\n",
      "Epoch 4/5\n",
      "712/712 [==============================] - 28s 39ms/step - loss: 1.2017 - acc: 0.5744 - val_loss: 1.5754 - val_acc: 0.4034\n",
      "Epoch 5/5\n",
      "712/712 [==============================] - 27s 38ms/step - loss: 0.8163 - acc: 0.7051 - val_loss: 1.6340 - val_acc: 0.3992\n",
      "Test score: 1.515604157447815\n",
      "Test accuracy: 0.5\n",
      "Dropout:  0.2\n",
      "Train on 712 samples, validate on 238 samples\n",
      "Epoch 1/5\n",
      "712/712 [==============================] - 30s 42ms/step - loss: 1.5846 - acc: 0.2556 - val_loss: 1.5734 - val_acc: 0.2689\n",
      "Epoch 2/5\n",
      "712/712 [==============================] - 28s 39ms/step - loss: 1.5394 - acc: 0.3104 - val_loss: 1.5461 - val_acc: 0.2857\n",
      "Epoch 3/5\n",
      "712/712 [==============================] - 30s 42ms/step - loss: 1.4287 - acc: 0.4228 - val_loss: 1.5049 - val_acc: 0.3739\n",
      "Epoch 4/5\n",
      "712/712 [==============================] - 30s 41ms/step - loss: 1.1221 - acc: 0.5871 - val_loss: 1.4654 - val_acc: 0.4160\n",
      "Epoch 5/5\n",
      "712/712 [==============================] - 30s 42ms/step - loss: 0.6832 - acc: 0.7669 - val_loss: 1.6727 - val_acc: 0.4496\n",
      "Test score: 1.2419110584259032\n",
      "Test accuracy: 0.5799999976158142\n",
      "Dropout:  0.3\n",
      "Train on 712 samples, validate on 238 samples\n",
      "Epoch 1/5\n",
      "712/712 [==============================] - 34s 48ms/step - loss: 1.5813 - acc: 0.2388 - val_loss: 1.5622 - val_acc: 0.2689\n",
      "Epoch 2/5\n",
      "712/712 [==============================] - 32s 45ms/step - loss: 1.5433 - acc: 0.2795 - val_loss: 1.5426 - val_acc: 0.2563\n",
      "Epoch 3/5\n",
      "712/712 [==============================] - 33s 46ms/step - loss: 1.4541 - acc: 0.3553 - val_loss: 1.4962 - val_acc: 0.2983\n",
      "Epoch 4/5\n",
      "712/712 [==============================] - 32s 45ms/step - loss: 1.1655 - acc: 0.5154 - val_loss: 1.6149 - val_acc: 0.3739\n",
      "Epoch 5/5\n",
      "712/712 [==============================] - 32s 45ms/step - loss: 0.7579 - acc: 0.7219 - val_loss: 2.1868 - val_acc: 0.4076\n",
      "Test score: 2.0108749675750732\n",
      "Test accuracy: 0.44000000119209287\n",
      "Dropout:  0.4\n",
      "Train on 712 samples, validate on 238 samples\n",
      "Epoch 1/5\n",
      "712/712 [==============================] - 37s 52ms/step - loss: 1.6016 - acc: 0.2388 - val_loss: 1.5621 - val_acc: 0.2647\n",
      "Epoch 2/5\n",
      "712/712 [==============================] - 32s 45ms/step - loss: 1.5532 - acc: 0.2725 - val_loss: 1.5616 - val_acc: 0.2689\n",
      "Epoch 3/5\n",
      "712/712 [==============================] - 32s 45ms/step - loss: 1.5122 - acc: 0.3034 - val_loss: 1.5508 - val_acc: 0.2857\n",
      "Epoch 4/5\n",
      "712/712 [==============================] - 33s 46ms/step - loss: 1.3751 - acc: 0.4565 - val_loss: 1.5829 - val_acc: 0.3235\n",
      "Epoch 5/5\n",
      "712/712 [==============================] - 33s 47ms/step - loss: 1.0462 - acc: 0.5941 - val_loss: 1.8062 - val_acc: 0.3824\n",
      "Test score: 1.6579239511489867\n",
      "Test accuracy: 0.4600000023841858\n",
      "Dropout:  0.5\n",
      "Train on 712 samples, validate on 238 samples\n",
      "Epoch 1/5\n",
      "712/712 [==============================] - 39s 54ms/step - loss: 1.5830 - acc: 0.2654 - val_loss: 1.5710 - val_acc: 0.2689\n",
      "Epoch 2/5\n",
      "712/712 [==============================] - 33s 47ms/step - loss: 1.5487 - acc: 0.2921 - val_loss: 1.5576 - val_acc: 0.2689\n",
      "Epoch 3/5\n",
      "712/712 [==============================] - 34s 48ms/step - loss: 1.5315 - acc: 0.3048 - val_loss: 1.5461 - val_acc: 0.3025\n",
      "Epoch 4/5\n",
      "712/712 [==============================] - 34s 48ms/step - loss: 1.4227 - acc: 0.3933 - val_loss: 1.5368 - val_acc: 0.3109\n",
      "Epoch 5/5\n",
      "712/712 [==============================] - 32s 45ms/step - loss: 1.1810 - acc: 0.5169 - val_loss: 1.4315 - val_acc: 0.3655\n",
      "Test score: 1.4318966722488404\n",
      "Test accuracy: 0.4600000023841858\n",
      "Dropout:  0.6\n",
      "Train on 712 samples, validate on 238 samples\n",
      "Epoch 1/5\n",
      "712/712 [==============================] - 36s 51ms/step - loss: 1.5958 - acc: 0.2233 - val_loss: 1.5651 - val_acc: 0.2605\n",
      "Epoch 2/5\n",
      "712/712 [==============================] - 32s 46ms/step - loss: 1.5512 - acc: 0.2837 - val_loss: 1.5570 - val_acc: 0.2689\n",
      "Epoch 3/5\n",
      "712/712 [==============================] - 34s 48ms/step - loss: 1.5208 - acc: 0.3132 - val_loss: 1.5504 - val_acc: 0.2815\n",
      "Epoch 4/5\n",
      "712/712 [==============================] - 34s 48ms/step - loss: 1.4212 - acc: 0.4073 - val_loss: 1.5975 - val_acc: 0.3025\n",
      "Epoch 5/5\n",
      "712/712 [==============================] - 35s 49ms/step - loss: 1.1711 - acc: 0.5435 - val_loss: 1.8674 - val_acc: 0.3109\n",
      "Test score: 1.7088205623626709\n",
      "Test accuracy: 0.3000000005960464\n",
      "Dropout:  0.7\n",
      "Train on 712 samples, validate on 238 samples\n",
      "Epoch 1/5\n",
      "712/712 [==============================] - 41s 57ms/step - loss: 1.6060 - acc: 0.2107 - val_loss: 1.5703 - val_acc: 0.2521\n",
      "Epoch 2/5\n",
      "712/712 [==============================] - 35s 49ms/step - loss: 1.5701 - acc: 0.2767 - val_loss: 1.5636 - val_acc: 0.2689\n",
      "Epoch 3/5\n",
      "712/712 [==============================] - 36s 50ms/step - loss: 1.5521 - acc: 0.2837 - val_loss: 1.5526 - val_acc: 0.2647\n",
      "Epoch 4/5\n",
      "712/712 [==============================] - 38s 53ms/step - loss: 1.5190 - acc: 0.2893 - val_loss: 1.5441 - val_acc: 0.2689\n",
      "Epoch 5/5\n",
      "712/712 [==============================] - 35s 49ms/step - loss: 1.4135 - acc: 0.3539 - val_loss: 1.6099 - val_acc: 0.2983\n",
      "Test score: 1.4106622982025145\n",
      "Test accuracy: 0.3200000047683716\n",
      "Dropout:  0.8\n",
      "Train on 712 samples, validate on 238 samples\n",
      "Epoch 1/5\n",
      "712/712 [==============================] - 41s 57ms/step - loss: 1.6376 - acc: 0.1966 - val_loss: 1.6001 - val_acc: 0.2353\n",
      "Epoch 2/5\n",
      "712/712 [==============================] - 36s 51ms/step - loss: 1.6035 - acc: 0.2374 - val_loss: 1.5882 - val_acc: 0.2731\n",
      "Epoch 3/5\n",
      "712/712 [==============================] - 37s 51ms/step - loss: 1.5825 - acc: 0.2303 - val_loss: 1.5668 - val_acc: 0.2689\n",
      "Epoch 4/5\n",
      "712/712 [==============================] - 37s 52ms/step - loss: 1.5570 - acc: 0.2809 - val_loss: 1.5474 - val_acc: 0.3067\n",
      "Epoch 5/5\n",
      "712/712 [==============================] - 36s 50ms/step - loss: 1.5092 - acc: 0.3118 - val_loss: 1.5264 - val_acc: 0.3277\n",
      "Test score: 1.495313014984131\n",
      "Test accuracy: 0.3800000047683716\n",
      "Dropout:  0.9\n",
      "Train on 712 samples, validate on 238 samples\n",
      "Epoch 1/5\n",
      "712/712 [==============================] - 39s 54ms/step - loss: 1.6560 - acc: 0.1840 - val_loss: 1.5953 - val_acc: 0.2353\n",
      "Epoch 2/5\n",
      "712/712 [==============================] - 35s 49ms/step - loss: 1.6156 - acc: 0.2317 - val_loss: 1.5953 - val_acc: 0.2437\n",
      "Epoch 3/5\n",
      "712/712 [==============================] - 35s 50ms/step - loss: 1.5949 - acc: 0.2654 - val_loss: 1.5873 - val_acc: 0.2269\n",
      "Epoch 4/5\n",
      "712/712 [==============================] - 35s 49ms/step - loss: 1.5893 - acc: 0.2725 - val_loss: 1.5800 - val_acc: 0.2563\n",
      "Epoch 5/5\n",
      "712/712 [==============================] - 34s 48ms/step - loss: 1.5740 - acc: 0.2893 - val_loss: 1.5752 - val_acc: 0.2899\n",
      "Test score: 1.5657159423828124\n",
      "Test accuracy: 0.2800000035762787\n"
     ]
    }
   ],
   "source": [
    "import copy\n",
    "result = {}\n",
    "y = {}\n",
    "loss = []\n",
    "acc = []\n",
    "dropouts = [0.0, 0.1, 0.2, 0.3, 0.4, 0.5, 0.6, 0.7, 0.8, 0.9]\n",
    "for dropout in dropouts:\n",
    "    print (\"Dropout: \", dropout)\n",
    "\n",
    "    inputs = Input(shape=(500, ))\n",
    "    embedding_layer = Embedding(len(vocabulary),\n",
    "                            16,input_length=500)(inputs)\n",
    "    word_embedding= BatchNormalization()(embedding_layer)\n",
    "\n",
    "    x = LSTM(128)(word_embedding)\n",
    "    x = Dense(64, activation='relu')(x)\n",
    "    x = Dropout(dropout)(x)\n",
    "    x = Dense(32, activation='relu')(x)\n",
    "    predictions = Dense(5, activation='softmax')(x)\n",
    "    model = Model(inputs=[inputs], outputs=predictions)\n",
    "    model.compile(optimizer='adam',\n",
    "              loss='categorical_crossentropy',\n",
    "              metrics=['acc'])\n",
    "    model_simple = model.fit([X_train], batch_size=64, y=to_categorical(y_train), verbose=1, validation_split=0.25, \n",
    "          shuffle=False, epochs=5)\n",
    "    score = model.evaluate(X_test, to_categorical(y_test),verbose=0)\n",
    "    y[dropout] = model.predict(X_test)\n",
    "    print('Test score:', score[0])\n",
    "    print('Test accuracy:', score[1])\n",
    "    result[dropout] = copy.deepcopy(model_simple.history)   \n",
    "    loss.append(score[0])\n",
    "    acc.append(score[1])"
   ]
  },
  {
   "cell_type": "markdown",
   "metadata": {},
   "source": [
    "### As we can see dropout with rate 0.2 helped us do decrease overfitting to %32"
   ]
  },
  {
   "cell_type": "code",
   "execution_count": 37,
   "metadata": {},
   "outputs": [
    {
     "data": {
      "image/png": "[encoded data removed]",
      "text/plain": [
       "<Figure size 432x288 with 1 Axes>"
      ]
     },
     "metadata": {},
     "output_type": "display_data"
    }
   ],
   "source": [
    "import numpy as np                                                               \n",
    "import matplotlib.pyplot as plt\n",
    "\n",
    "width = 0.1\n",
    "\n",
    "plt.bar(dropouts, acc, width, align='center')\n",
    "#plt.figure(figsize=(50,50))\n",
    "plt.tick_params(axis='both', which='major', labelsize=10)\n",
    "plt.tick_params(axis='both', which='minor', labelsize=10)\n",
    "\n",
    "plt.ylabel('Accuracy',size = 20)\n",
    "plt.xlabel('Dropout', size = 20)\n",
    "plt.show()"
   ]
  },
  {
   "cell_type": "code",
   "execution_count": 38,
   "metadata": {},
   "outputs": [
    {
     "data": {
      "image/png": "[encoded data removed]",
      "text/plain": [
       "<Figure size 432x288 with 1 Axes>"
      ]
     },
     "metadata": {},
     "output_type": "display_data"
    }
   ],
   "source": [
    "width = 0.1\n",
    "\n",
    "plt.bar(dropouts, loss, width, align='center',color = 'green')\n",
    "\n",
    "plt.tick_params(axis='both', which='major', labelsize=10)\n",
    "plt.tick_params(axis='both', which='minor', labelsize=10)\n",
    "\n",
    "plt.ylabel('Loss',size = 20)\n",
    "plt.xlabel('Dropout', size = 20)\n",
    "plt.show()"
   ]
  },
  {
   "cell_type": "markdown",
   "metadata": {},
   "source": [
    "### From this experiment we can say that Dropout layer with rate 0.2 is best suitable for our model and it helped to increase the accuracy score"
   ]
  },
  {
   "cell_type": "markdown",
   "metadata": {},
   "source": [
    "## Fine Tune Hyper-Parameters"
   ]
  },
  {
   "cell_type": "code",
   "execution_count": 46,
   "metadata": {},
   "outputs": [
    {
     "name": "stdout",
     "output_type": "stream",
     "text": [
      "Learning rate:  0.1\n",
      "Train on 712 samples, validate on 238 samples\n",
      "Epoch 1/5\n",
      "712/712 [==============================] - 173s 243ms/step - loss: 1.5910 - acc: 0.2303 - val_loss: 1.5694 - val_acc: 0.2689\n",
      "Epoch 2/5\n",
      "712/712 [==============================] - 118s 165ms/step - loss: 1.5541 - acc: 0.2935 - val_loss: 1.5636 - val_acc: 0.2689\n",
      "Epoch 3/5\n",
      "712/712 [==============================] - 71s 99ms/step - loss: 1.5118 - acc: 0.3020 - val_loss: 1.5545 - val_acc: 0.2689\n",
      "Epoch 4/5\n",
      "712/712 [==============================] - 67s 94ms/step - loss: 1.3683 - acc: 0.4705 - val_loss: 1.4672 - val_acc: 0.4160\n",
      "Epoch 5/5\n",
      "712/712 [==============================] - 68s 96ms/step - loss: 0.8690 - acc: 0.7346 - val_loss: 1.5652 - val_acc: 0.3697\n",
      "Test score: 1.48705087184906\n",
      "Test accuracy: 0.4200000023841858\n",
      "Learning rate:  0.01\n",
      "Train on 712 samples, validate on 238 samples\n",
      "Epoch 1/5\n",
      "712/712 [==============================] - 84s 117ms/step - loss: 1.5831 - acc: 0.2626 - val_loss: 1.5655 - val_acc: 0.2689\n",
      "Epoch 2/5\n",
      "712/712 [==============================] - 69s 97ms/step - loss: 1.5345 - acc: 0.3062 - val_loss: 1.5422 - val_acc: 0.2815\n",
      "Epoch 3/5\n",
      "712/712 [==============================] - 88s 123ms/step - loss: 1.3931 - acc: 0.4410 - val_loss: 1.4796 - val_acc: 0.3739\n",
      "Epoch 4/5\n",
      "712/712 [==============================] - 80s 112ms/step - loss: 1.0529 - acc: 0.5899 - val_loss: 1.5711 - val_acc: 0.3782\n",
      "Epoch 5/5\n",
      "712/712 [==============================] - 79s 111ms/step - loss: 0.5836 - acc: 0.7795 - val_loss: 1.7515 - val_acc: 0.4748\n",
      "Test score: 1.7751924943923951\n",
      "Test accuracy: 0.4600000011920929\n",
      "Learning rate:  0.001\n",
      "Train on 712 samples, validate on 238 samples\n",
      "Epoch 1/5\n",
      "712/712 [==============================] - 95s 133ms/step - loss: 1.5819 - acc: 0.2275 - val_loss: 1.5566 - val_acc: 0.2773\n",
      "Epoch 2/5\n",
      "712/712 [==============================] - 73s 103ms/step - loss: 1.5435 - acc: 0.3048 - val_loss: 1.5442 - val_acc: 0.2857\n",
      "Epoch 3/5\n",
      "712/712 [==============================] - 76s 106ms/step - loss: 1.4624 - acc: 0.4143 - val_loss: 1.5055 - val_acc: 0.3655\n",
      "Epoch 4/5\n",
      "712/712 [==============================] - 75s 105ms/step - loss: 1.1864 - acc: 0.5562 - val_loss: 1.6267 - val_acc: 0.3655\n",
      "Epoch 5/5\n",
      "712/712 [==============================] - 77s 109ms/step - loss: 0.8300 - acc: 0.6587 - val_loss: 1.8453 - val_acc: 0.4202\n",
      "Test score: 1.4399111890792846\n",
      "Test accuracy: 0.4800000011920929\n",
      "Learning rate:  0.0001\n",
      "Train on 712 samples, validate on 238 samples\n",
      "Epoch 1/5\n",
      "712/712 [==============================] - 99s 139ms/step - loss: 1.5692 - acc: 0.2654 - val_loss: 1.5539 - val_acc: 0.2689\n",
      "Epoch 2/5\n",
      "712/712 [==============================] - 80s 113ms/step - loss: 1.5324 - acc: 0.3020 - val_loss: 1.5458 - val_acc: 0.2689\n",
      "Epoch 3/5\n",
      "712/712 [==============================] - 78s 110ms/step - loss: 1.4254 - acc: 0.3343 - val_loss: 1.5360 - val_acc: 0.2689\n",
      "Epoch 4/5\n",
      "712/712 [==============================] - 81s 113ms/step - loss: 1.0672 - acc: 0.5492 - val_loss: 1.7600 - val_acc: 0.3445\n",
      "Epoch 5/5\n",
      "712/712 [==============================] - 77s 108ms/step - loss: 0.6344 - acc: 0.7500 - val_loss: 2.0112 - val_acc: 0.4034\n",
      "Test score: 1.651444387435913\n",
      "Test accuracy: 0.3800000023841858\n",
      "Learning rate:  1e-05\n",
      "Train on 712 samples, validate on 238 samples\n",
      "Epoch 1/5\n",
      "712/712 [==============================] - 96s 135ms/step - loss: 1.5642 - acc: 0.2978 - val_loss: 1.5627 - val_acc: 0.2689\n",
      "Epoch 2/5\n",
      "712/712 [==============================] - 73s 102ms/step - loss: 1.5246 - acc: 0.3006 - val_loss: 1.5341 - val_acc: 0.2773\n",
      "Epoch 3/5\n",
      "712/712 [==============================] - 76s 107ms/step - loss: 1.4023 - acc: 0.4073 - val_loss: 1.5116 - val_acc: 0.3109\n",
      "Epoch 4/5\n",
      "712/712 [==============================] - 77s 108ms/step - loss: 0.9997 - acc: 0.6348 - val_loss: 1.6078 - val_acc: 0.3613\n",
      "Epoch 5/5\n",
      "712/712 [==============================] - 75s 105ms/step - loss: 0.6616 - acc: 0.7654 - val_loss: 1.6272 - val_acc: 0.4202\n",
      "Test score: 1.4319097089767456\n",
      "Test accuracy: 0.4600000023841858\n"
     ]
    }
   ],
   "source": [
    "from keras import optimizers\n",
    "\n",
    "result = {}\n",
    "y = {}\n",
    "loss = []\n",
    "acc = []\n",
    "\n",
    "learning_rates = [0.1,0.01,0.001,0.0001,0.00001]\n",
    "lr_weight_decay = 0.95  \n",
    "\n",
    "for lr in learning_rates:\n",
    "    print (\"Learning rate: \", lr)\n",
    "    \n",
    "    inputs = Input(shape=(500, ))\n",
    "    embedding_layer = Embedding(len(vocabulary),\n",
    "                            16,input_length=500)(inputs)\n",
    "    word_embedding= BatchNormalization()(embedding_layer)\n",
    "\n",
    "    x = LSTM(128)(word_embedding)\n",
    "    x = Dense(64, activation='relu')(x)\n",
    "    x = Dropout(0.2)(x)\n",
    "    x = Dense(32, activation='relu')(x)\n",
    "    predictions = Dense(5, activation='softmax')(x)\n",
    "    model = Model(inputs=[inputs], outputs=predictions)\n",
    "    adam = optimizers.Adam(lr,decay=lr_weight_decay)\n",
    "    model.compile(optimizer='adam',\n",
    "                  loss='categorical_crossentropy',\n",
    "                  metrics=['acc'])\n",
    "    \n",
    "    model_simple = model.fit([X_train], batch_size=64, y=to_categorical(y_train), verbose=1, validation_split=0.25, \n",
    "          shuffle=False, epochs=5)\n",
    "    score = model.evaluate(X_test, to_categorical(y_test),verbose=0)\n",
    "    y[lr] = model.predict(X_test)\n",
    "    print('Test score:', score[0])\n",
    "    print('Test accuracy:', score[1])\n",
    "    result[lr] = copy.deepcopy(model_simple.history)   \n",
    "    loss.append(score[0])\n",
    "    acc.append(score[1])"
   ]
  },
  {
   "cell_type": "code",
   "execution_count": 50,
   "metadata": {},
   "outputs": [
    {
     "data": {
      "image/png": "[encoded data removed]",
      "text/plain": [
       "<Figure size 432x288 with 1 Axes>"
      ]
     },
     "metadata": {},
     "output_type": "display_data"
    }
   ],
   "source": [
    "import numpy as np                                                               \n",
    "import matplotlib.pyplot as plt\n",
    "\n",
    "width = 0.1\n",
    "\n",
    "plt.bar(learning_rates, acc, width, align='center')\n",
    "#plt.figure(figsize=(50,50))\n",
    "plt.tick_params(axis='both', which='major', labelsize=20)\n",
    "plt.tick_params(axis='both', which='minor', labelsize=20)\n",
    "\n",
    "plt.ylabel('Accuracy',size = 20)\n",
    "plt.xlabel('Learning Rate', size = 20)\n",
    "plt.show()"
   ]
  },
  {
   "cell_type": "code",
   "execution_count": 51,
   "metadata": {},
   "outputs": [
    {
     "data": {
      "image/png": "[encoded data removed]",
      "text/plain": [
       "<Figure size 432x288 with 1 Axes>"
      ]
     },
     "metadata": {},
     "output_type": "display_data"
    }
   ],
   "source": [
    "width = 0.1\n",
    "\n",
    "plt.bar(learning_rates, loss, width, align='center',color = 'green')\n",
    "\n",
    "plt.tick_params(axis='both', which='major', labelsize=10)\n",
    "plt.tick_params(axis='both', which='minor', labelsize=10)\n",
    "\n",
    "plt.ylabel('Loss',size = 20)\n",
    "plt.xlabel('Learning rates', size = 20)\n",
    "plt.show()"
   ]
  },
  {
   "cell_type": "markdown",
   "metadata": {},
   "source": [
    "## So also we can try different optimizer as RMSPROP"
   ]
  },
  {
   "cell_type": "code",
   "execution_count": 59,
   "metadata": {},
   "outputs": [
    {
     "name": "stdout",
     "output_type": "stream",
     "text": [
      "_________________________________________________________________\n",
      "Layer (type)                 Output Shape              Param #   \n",
      "=================================================================\n",
      "input_48 (InputLayer)        (None, 500)               0         \n",
      "_________________________________________________________________\n",
      "embedding_48 (Embedding)     (None, 500, 16)           156288    \n",
      "_________________________________________________________________\n",
      "batch_normalization_48 (Batc (None, 500, 16)           64        \n",
      "_________________________________________________________________\n",
      "lstm_48 (LSTM)               (None, 128)               74240     \n",
      "_________________________________________________________________\n",
      "dense_139 (Dense)            (None, 64)                8256      \n",
      "_________________________________________________________________\n",
      "dropout_45 (Dropout)         (None, 64)                0         \n",
      "_________________________________________________________________\n",
      "dense_140 (Dense)            (None, 32)                2080      \n",
      "_________________________________________________________________\n",
      "dense_141 (Dense)            (None, 5)                 165       \n",
      "=================================================================\n",
      "Total params: 241,093\n",
      "Trainable params: 241,061\n",
      "Non-trainable params: 32\n",
      "_________________________________________________________________\n"
     ]
    }
   ],
   "source": [
    "inputs = Input(shape=(500, ))\n",
    "embedding_layer = Embedding(len(vocabulary),\n",
    "                            16,input_length=500)(inputs)\n",
    "word_embedding= BatchNormalization()(embedding_layer)\n",
    "\n",
    "x = LSTM(128)(word_embedding)\n",
    "x = Dense(64, activation='relu')(x)\n",
    "x = Dropout(0.2)(x)\n",
    "x = Dense(32, activation='relu')(x)\n",
    "predictions = Dense(5, activation='softmax')(x)\n",
    "model = Model(inputs=[inputs], outputs=predictions)\n",
    "rmsprop = optimizers.RMSprop(lr=0.001, decay=0.95)\n",
    "model.compile(optimizer='rmsprop',\n",
    "              loss='categorical_crossentropy',\n",
    "              metrics=['acc'])\n",
    "\n",
    "model.summary()"
   ]
  },
  {
   "cell_type": "code",
   "execution_count": 60,
   "metadata": {},
   "outputs": [
    {
     "name": "stdout",
     "output_type": "stream",
     "text": [
      "Train on 712 samples, validate on 238 samples\n",
      "Epoch 1/5\n",
      "712/712 [==============================] - 91s 128ms/step - loss: 1.5840 - acc: 0.2528 - val_loss: 1.5803 - val_acc: 0.2521\n",
      "Epoch 2/5\n",
      "712/712 [==============================] - 79s 111ms/step - loss: 1.5245 - acc: 0.3020 - val_loss: 1.5623 - val_acc: 0.2773\n",
      "Epoch 3/5\n",
      "712/712 [==============================] - 88s 123ms/step - loss: 1.3856 - acc: 0.4382 - val_loss: 1.6502 - val_acc: 0.2815\n",
      "Epoch 4/5\n",
      "712/712 [==============================] - 91s 128ms/step - loss: 1.1803 - acc: 0.5829 - val_loss: 1.5603 - val_acc: 0.3950\n",
      "Epoch 5/5\n",
      "712/712 [==============================] - 90s 127ms/step - loss: 0.8247 - acc: 0.7233 - val_loss: 1.6464 - val_acc: 0.4160\n"
     ]
    }
   ],
   "source": [
    "model_simple = model.fit([X_train], batch_size=64, y=to_categorical(y_train), verbose=1, validation_split=0.25, \n",
    "          shuffle=False, epochs=5)"
   ]
  },
  {
   "cell_type": "code",
   "execution_count": 63,
   "metadata": {},
   "outputs": [
    {
     "name": "stdout",
     "output_type": "stream",
     "text": [
      "0.36\n"
     ]
    }
   ],
   "source": [
    "from sklearn.metrics import accuracy_score\n",
    "predicted=model.predict(X_test)\n",
    "predicted = np.argmax(predicted, axis=1)\n",
    "print(accuracy_score(y_test, predicted))"
   ]
  },
  {
   "cell_type": "markdown",
   "metadata": {},
   "source": [
    "### As we can see from above results we succeded to decrease overfitting to %40 "
   ]
  },
  {
   "cell_type": "markdown",
   "metadata": {},
   "source": [
    "## Moreover we can also add L1 and L2 regularization , we can increase batchsize and we can also increse number of epochs"
   ]
  },
  {
   "cell_type": "code",
   "execution_count": 66,
   "metadata": {},
   "outputs": [
    {
     "name": "stdout",
     "output_type": "stream",
     "text": [
      "_________________________________________________________________\n",
      "Layer (type)                 Output Shape              Param #   \n",
      "=================================================================\n",
      "input_50 (InputLayer)        (None, 500)               0         \n",
      "_________________________________________________________________\n",
      "embedding_50 (Embedding)     (None, 500, 16)           156288    \n",
      "_________________________________________________________________\n",
      "batch_normalization_50 (Batc (None, 500, 16)           64        \n",
      "_________________________________________________________________\n",
      "lstm_50 (LSTM)               (None, 128)               74240     \n",
      "_________________________________________________________________\n",
      "dense_145 (Dense)            (None, 64)                8256      \n",
      "_________________________________________________________________\n",
      "dropout_47 (Dropout)         (None, 64)                0         \n",
      "_________________________________________________________________\n",
      "dense_146 (Dense)            (None, 32)                2080      \n",
      "_________________________________________________________________\n",
      "dense_147 (Dense)            (None, 5)                 165       \n",
      "=================================================================\n",
      "Total params: 241,093\n",
      "Trainable params: 241,061\n",
      "Non-trainable params: 32\n",
      "_________________________________________________________________\n"
     ]
    }
   ],
   "source": [
    "from keras import regularizers\n",
    "\n",
    "inputs = Input(shape=(500, ))\n",
    "embedding_layer = Embedding(len(vocabulary),\n",
    "                            16,input_length=500)(inputs)\n",
    "word_embedding= BatchNormalization()(embedding_layer)\n",
    "\n",
    "x = LSTM(128)(word_embedding)\n",
    "x = Dense(64, activation='relu',kernel_regularizer=regularizers.l2(0.1))(x)\n",
    "x = Dropout(0.2)(x)\n",
    "x = Dense(32, activation='relu',kernel_regularizer=regularizers.l2(0.1))(x)\n",
    "predictions = Dense(5, activation='softmax')(x)\n",
    "model = Model(inputs=[inputs], outputs=predictions)\n",
    "rmsprop = optimizers.RMSprop(lr=0.001, decay=0.95)\n",
    "model.compile(optimizer='rmsprop',\n",
    "              loss='categorical_crossentropy',\n",
    "              metrics=['acc'])\n",
    "\n",
    "model.summary()"
   ]
  },
  {
   "cell_type": "code",
   "execution_count": 67,
   "metadata": {},
   "outputs": [
    {
     "name": "stdout",
     "output_type": "stream",
     "text": [
      "Train on 712 samples, validate on 238 samples\n",
      "Epoch 1/10\n",
      "712/712 [==============================] - 79s 111ms/step - loss: 13.5459 - acc: 0.2444 - val_loss: 12.3780 - val_acc: 0.2689\n",
      "Epoch 2/10\n",
      "712/712 [==============================] - 62s 87ms/step - loss: 11.8668 - acc: 0.2781 - val_loss: 11.1650 - val_acc: 0.2647\n",
      "Epoch 3/10\n",
      "712/712 [==============================] - 66s 92ms/step - loss: 10.7257 - acc: 0.3497 - val_loss: 10.2055 - val_acc: 0.2815\n",
      "Epoch 4/10\n",
      "712/712 [==============================] - 59s 83ms/step - loss: 9.7452 - acc: 0.3876 - val_loss: 9.3690 - val_acc: 0.3025\n",
      "Epoch 5/10\n",
      "712/712 [==============================] - 62s 87ms/step - loss: 8.8131 - acc: 0.5028 - val_loss: 8.5850 - val_acc: 0.3487\n",
      "Epoch 6/10\n",
      "712/712 [==============================] - 60s 84ms/step - loss: 7.9766 - acc: 0.5393 - val_loss: 7.8777 - val_acc: 0.3193\n",
      "Epoch 7/10\n",
      "712/712 [==============================] - 64s 90ms/step - loss: 7.1593 - acc: 0.6461 - val_loss: 7.2065 - val_acc: 0.4118\n",
      "Epoch 8/10\n",
      "712/712 [==============================] - 60s 84ms/step - loss: 6.3485 - acc: 0.7683 - val_loss: 6.9082 - val_acc: 0.3487\n",
      "Epoch 9/10\n",
      "712/712 [==============================] - 61s 86ms/step - loss: 5.7071 - acc: 0.7556 - val_loss: 6.1887 - val_acc: 0.4370\n",
      "Epoch 10/10\n",
      "712/712 [==============================] - 60s 84ms/step - loss: 5.0723 - acc: 0.8624 - val_loss: 5.7295 - val_acc: 0.4706\n"
     ]
    }
   ],
   "source": [
    "model_simple = model.fit([X_train], batch_size=128, y=to_categorical(y_train), verbose=1, validation_split=0.25, \n",
    "          shuffle=False, epochs=10)"
   ]
  },
  {
   "cell_type": "code",
   "execution_count": 72,
   "metadata": {},
   "outputs": [
    {
     "name": "stdout",
     "output_type": "stream",
     "text": [
      "_________________________________________________________________\n",
      "Layer (type)                 Output Shape              Param #   \n",
      "=================================================================\n",
      "input_52 (InputLayer)        (None, 500)               0         \n",
      "_________________________________________________________________\n",
      "embedding_52 (Embedding)     (None, 500, 16)           156288    \n",
      "_________________________________________________________________\n",
      "batch_normalization_52 (Batc (None, 500, 16)           64        \n",
      "_________________________________________________________________\n",
      "lstm_52 (LSTM)               (None, 128)               74240     \n",
      "_________________________________________________________________\n",
      "dense_151 (Dense)            (None, 64)                8256      \n",
      "_________________________________________________________________\n",
      "dropout_49 (Dropout)         (None, 64)                0         \n",
      "_________________________________________________________________\n",
      "dense_152 (Dense)            (None, 32)                2080      \n",
      "_________________________________________________________________\n",
      "dense_153 (Dense)            (None, 5)                 165       \n",
      "=================================================================\n",
      "Total params: 241,093\n",
      "Trainable params: 241,061\n",
      "Non-trainable params: 32\n",
      "_________________________________________________________________\n"
     ]
    }
   ],
   "source": [
    "inputs = Input(shape=(500, ))\n",
    "embedding_layer = Embedding(len(vocabulary),\n",
    "                            16,input_length=500)(inputs)\n",
    "word_embedding= BatchNormalization()(embedding_layer)\n",
    "\n",
    "x = LSTM(128)(word_embedding)\n",
    "x = Dense(64, activation='relu',activity_regularizer=regularizers.l1(0.2))(x)\n",
    "x = Dropout(0.2)(x)\n",
    "x = Dense(32, activation='relu',activity_regularizer=regularizers.l1(0.2))(x)\n",
    "predictions = Dense(5, activation='softmax')(x)\n",
    "model = Model(inputs=[inputs], outputs=predictions)\n",
    "rmsprop = optimizers.RMSprop(lr=0.001)\n",
    "model.compile(optimizer='rmsprop',\n",
    "              loss='categorical_crossentropy',\n",
    "              metrics=['acc'])\n",
    "\n",
    "model.summary()"
   ]
  },
  {
   "cell_type": "code",
   "execution_count": 73,
   "metadata": {},
   "outputs": [
    {
     "name": "stdout",
     "output_type": "stream",
     "text": [
      "Train on 712 samples, validate on 238 samples\n",
      "Epoch 1/5\n",
      "712/712 [==============================] - 118s 166ms/step - loss: 13.8546 - acc: 0.2065 - val_loss: 1.6926 - val_acc: 0.2689\n",
      "Epoch 2/5\n",
      "712/712 [==============================] - 87s 122ms/step - loss: 1.6781 - acc: 0.2879 - val_loss: 1.6536 - val_acc: 0.2689\n",
      "Epoch 3/5\n",
      "712/712 [==============================] - 87s 123ms/step - loss: 1.6320 - acc: 0.2865 - val_loss: 1.6377 - val_acc: 0.2689\n",
      "Epoch 4/5\n",
      "712/712 [==============================] - 85s 119ms/step - loss: 1.6134 - acc: 0.2865 - val_loss: 1.6242 - val_acc: 0.2689\n",
      "Epoch 5/5\n",
      "712/712 [==============================] - 85s 119ms/step - loss: 1.6012 - acc: 0.2865 - val_loss: 1.6173 - val_acc: 0.2689\n"
     ]
    }
   ],
   "source": [
    "model_simple = model.fit([X_train], batch_size=64, y=to_categorical(y_train), verbose=1, validation_split=0.25, \n",
    "          shuffle=False, epochs=5)"
   ]
  },
  {
   "cell_type": "markdown",
   "metadata": {},
   "source": [
    "## As a result of these experiments I can say that Dropout , changing optimizer to rmsprop and putting L2 regularization helped us to acvhieve better performance so now we can try these changes on our big dataset"
   ]
  },
  {
   "cell_type": "code",
   "execution_count": 74,
   "metadata": {},
   "outputs": [
    {
     "data": {
      "text/plain": [
       "{'BLACK VOICES', 'COMEDY', 'HEALTHY LIVING', 'SPORTS', 'WORLD NEWS'}"
      ]
     },
     "execution_count": 74,
     "metadata": {},
     "output_type": "execute_result"
    }
   ],
   "source": [
    "with open('train_.txt') as json_file:  \n",
    "    train_data = json.load(json_file)\n",
    "\n",
    "from random import shuffle\n",
    "shuffle(train_data)\n",
    "\n",
    "\n",
    "\n",
    "a=[]\n",
    "for i in train_data:\n",
    "    a.append(i['category'])\n",
    "classes=set(a)\n",
    "\n",
    "classes"
   ]
  },
  {
   "cell_type": "code",
   "execution_count": 75,
   "metadata": {},
   "outputs": [],
   "source": [
    "d = {}\n",
    "for k,v in enumerate(classes):\n",
    "    d[v] = k\n",
    "    \n",
    "k=[]\n",
    "C=[]\n",
    "for item in train_data:\n",
    "    c=d[item['category']]\n",
    "    C.append(c)\n",
    "    EXP=item['headline']+item['short_description']\n",
    "    k.append(EXP)\n",
    "\n",
    "train_df = pd.DataFrame(k)\n",
    "train_df['category']=C\n",
    "train_df.columns=[\"sentence\",\"category\"]"
   ]
  },
  {
   "cell_type": "code",
   "execution_count": 76,
   "metadata": {},
   "outputs": [],
   "source": [
    "vocabulary = build_vocabulary(train_df[\"sentence\"])"
   ]
  },
  {
   "cell_type": "code",
   "execution_count": 77,
   "metadata": {},
   "outputs": [],
   "source": [
    "# Create datasets (Only take up to time_steps words for memory)\n",
    "train_text = train_df['sentence'].tolist()\n",
    "train_text = [' '.join(t.split()[0:time_steps]) for t in train_text]\n",
    "train_text = np.array(train_text)\n",
    "train_label = np.array(train_df['category'].tolist())"
   ]
  },
  {
   "cell_type": "code",
   "execution_count": 78,
   "metadata": {},
   "outputs": [],
   "source": [
    "MAX_LENGTH = 500\n",
    "tokenizer = Tokenizer()\n",
    "tokenizer.fit_on_texts(train_text)\n",
    "post_seq = tokenizer.texts_to_sequences(train_text)\n",
    "post_seq_padded = pad_sequences(post_seq, maxlen=MAX_LENGTH)"
   ]
  },
  {
   "cell_type": "code",
   "execution_count": 79,
   "metadata": {},
   "outputs": [],
   "source": [
    "from sklearn.model_selection import train_test_split\n",
    "X_train, X_test, y_train, y_test = train_test_split(post_seq_padded, train_label, test_size=0.05)"
   ]
  },
  {
   "cell_type": "code",
   "execution_count": 80,
   "metadata": {},
   "outputs": [
    {
     "name": "stdout",
     "output_type": "stream",
     "text": [
      "_________________________________________________________________\n",
      "Layer (type)                 Output Shape              Param #   \n",
      "=================================================================\n",
      "input_53 (InputLayer)        (None, 500)               0         \n",
      "_________________________________________________________________\n",
      "embedding_53 (Embedding)     (None, 500, 16)           1262832   \n",
      "_________________________________________________________________\n",
      "batch_normalization_53 (Batc (None, 500, 16)           64        \n",
      "_________________________________________________________________\n",
      "lstm_53 (LSTM)               (None, 128)               74240     \n",
      "_________________________________________________________________\n",
      "dense_154 (Dense)            (None, 64)                8256      \n",
      "_________________________________________________________________\n",
      "dropout_50 (Dropout)         (None, 64)                0         \n",
      "_________________________________________________________________\n",
      "dense_155 (Dense)            (None, 32)                2080      \n",
      "_________________________________________________________________\n",
      "dense_156 (Dense)            (None, 5)                 165       \n",
      "=================================================================\n",
      "Total params: 1,347,637\n",
      "Trainable params: 1,347,605\n",
      "Non-trainable params: 32\n",
      "_________________________________________________________________\n"
     ]
    }
   ],
   "source": [
    "inputs = Input(shape=(500, ))\n",
    "embedding_layer = Embedding(len(vocabulary),\n",
    "                            16,input_length=500)(inputs)\n",
    "word_embedding= BatchNormalization()(embedding_layer)\n",
    "\n",
    "x = LSTM(128)(word_embedding)\n",
    "x = Dense(64, activation='relu',kernel_regularizer=regularizers.l2(0.05))(x)\n",
    "x = Dropout(0.2)(x)\n",
    "x = Dense(32, activation='relu',kernel_regularizer=regularizers.l2(0.05))(x)\n",
    "predictions = Dense(5, activation='softmax')(x)\n",
    "model = Model(inputs=[inputs], outputs=predictions)\n",
    "rmsprop = optimizers.RMSprop(lr=0.001, decay=0.95)\n",
    "model.compile(optimizer='rmsprop',\n",
    "              loss='categorical_crossentropy',\n",
    "              metrics=['acc'])\n",
    "\n",
    "model.summary()"
   ]
  },
  {
   "cell_type": "code",
   "execution_count": 81,
   "metadata": {},
   "outputs": [
    {
     "name": "stdout",
     "output_type": "stream",
     "text": [
      "Train on 14250 samples, validate on 4750 samples\n",
      "Epoch 1/5\n",
      "14250/14250 [==============================] - 1135s 80ms/step - loss: 3.9328 - acc: 0.4230 - val_loss: 1.8155 - val_acc: 0.6307\n",
      "Epoch 2/5\n",
      "14250/14250 [==============================] - 1055s 74ms/step - loss: 1.2274 - acc: 0.6985 - val_loss: 1.1419 - val_acc: 0.6581\n",
      "Epoch 3/5\n",
      "14250/14250 [==============================] - 1108s 78ms/step - loss: 0.7851 - acc: 0.7766 - val_loss: 0.9579 - val_acc: 0.7086\n",
      "Epoch 4/5\n",
      "14250/14250 [==============================] - 1120s 79ms/step - loss: 0.6117 - acc: 0.8278 - val_loss: 0.8701 - val_acc: 0.7522\n",
      "Epoch 5/5\n",
      "14250/14250 [==============================] - 1142s 80ms/step - loss: 0.4691 - acc: 0.9016 - val_loss: 0.9570 - val_acc: 0.7091\n"
     ]
    }
   ],
   "source": [
    "history = model.fit([X_train], batch_size=128, y=to_categorical(y_train), verbose=1, validation_split=0.25, \n",
    "          shuffle=False, epochs=5)"
   ]
  },
  {
   "cell_type": "code",
   "execution_count": 82,
   "metadata": {},
   "outputs": [
    {
     "data": {
      "image/png": "[encoded data removed]",
      "text/plain": [
       "<Figure size 432x288 with 1 Axes>"
      ]
     },
     "metadata": {},
     "output_type": "display_data"
    },
    {
     "data": {
      "image/png": "[encoded data removed]",
      "text/plain": [
       "<Figure size 432x288 with 1 Axes>"
      ]
     },
     "metadata": {},
     "output_type": "display_data"
    }
   ],
   "source": [
    "# summarize history for accuracy\n",
    "plt.plot(history.history['acc'])\n",
    "plt.plot(history.history['val_acc'])\n",
    "plt.title('model accuracy')\n",
    "plt.ylabel('accuracy')\n",
    "plt.xlabel('epoch')\n",
    "plt.legend(['train', 'test'], loc='upper left')\n",
    "plt.show()\n",
    "# summarize history for loss\n",
    "plt.plot(history.history['loss'])\n",
    "plt.plot(history.history['val_loss'])\n",
    "plt.title('model loss')\n",
    "plt.ylabel('loss')\n",
    "plt.xlabel('epoch')\n",
    "plt.legend(['train', 'test'], loc='upper left')\n",
    "plt.show()"
   ]
  }
 ],
 "metadata": {
  "kernelspec": {
   "display_name": "Python 3",
   "language": "python",
   "name": "python3"
  },
  "language_info": {
   "codemirror_mode": {
    "name": "ipython",
    "version": 3
   },
   "file_extension": ".py",
   "mimetype": "text/x-python",
   "name": "python",
   "nbconvert_exporter": "python",
   "pygments_lexer": "ipython3",
   "version": "3.6.5"
  }
 },
 "nbformat": 4,
 "nbformat_minor": 2
}
